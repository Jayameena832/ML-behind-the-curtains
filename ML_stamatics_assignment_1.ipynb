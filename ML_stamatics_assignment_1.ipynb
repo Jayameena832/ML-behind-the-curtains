{
  "cells": [
    {
      "cell_type": "markdown",
      "metadata": {
        "id": "view-in-github",
        "colab_type": "text"
      },
      "source": [
        "<a href=\"https://colab.research.google.com/github/Jayameena832/ML-behind-the-curtains/blob/main/ML_stamatics_assignment_1.ipynb\" target=\"_parent\"><img src=\"https://colab.research.google.com/assets/colab-badge.svg\" alt=\"Open In Colab\"/></a>"
      ]
    },
    {
      "cell_type": "code",
      "execution_count": null,
      "id": "42f5e68e",
      "metadata": {
        "id": "42f5e68e"
      },
      "outputs": [],
      "source": [
        "import numpy as np\n",
        "import pandas as pd\n",
        "import math"
      ]
    },
    {
      "cell_type": "markdown",
      "id": "2b209b50",
      "metadata": {
        "id": "2b209b50"
      },
      "source": [
        "Q1 Let x = np.arange(4, dtype=np.int64). Create an array of ones with the same shape and type as X."
      ]
    },
    {
      "cell_type": "code",
      "execution_count": null,
      "id": "729dc9cd",
      "metadata": {
        "id": "729dc9cd"
      },
      "outputs": [],
      "source": [
        "x = np.arange(4, dtype=np.int64)\n",
        "y = np.full_like(x,1)"
      ]
    },
    {
      "cell_type": "code",
      "source": [
        "print(y)"
      ],
      "metadata": {
        "colab": {
          "base_uri": "https://localhost:8080/"
        },
        "id": "LtJoeQyX4_cm",
        "outputId": "b6cdfecc-422a-4148-f623-fba8f602e8f8"
      },
      "id": "LtJoeQyX4_cm",
      "execution_count": null,
      "outputs": [
        {
          "output_type": "stream",
          "name": "stdout",
          "text": [
            "[1 1 1 1]\n"
          ]
        }
      ]
    },
    {
      "cell_type": "markdown",
      "id": "1b9ea803",
      "metadata": {
        "id": "1b9ea803"
      },
      "source": [
        "Q2 Let X = np.array([[1, 2], [3, 4]]). Convert it into a matrix."
      ]
    },
    {
      "cell_type": "code",
      "execution_count": null,
      "id": "23e39b64",
      "metadata": {
        "id": "23e39b64"
      },
      "outputs": [],
      "source": [
        "x = np.array([[1,2],[3,4]])\n",
        "arr = x"
      ]
    },
    {
      "cell_type": "code",
      "source": [
        "print(arr)"
      ],
      "metadata": {
        "colab": {
          "base_uri": "https://localhost:8080/"
        },
        "id": "yELrX0u26IPc",
        "outputId": "5c12f65f-ce8d-486f-e39d-0c7a7c745245"
      },
      "id": "yELrX0u26IPc",
      "execution_count": null,
      "outputs": [
        {
          "output_type": "stream",
          "name": "stdout",
          "text": [
            "[[1 2]\n",
            " [3 4]]\n"
          ]
        }
      ]
    },
    {
      "cell_type": "markdown",
      "id": "4c1fc004",
      "metadata": {
        "id": "4c1fc004"
      },
      "source": [
        "Q3 Create a 1-D array of 50 evenly spaced elements between 3. and 10., inclusive."
      ]
    },
    {
      "cell_type": "code",
      "execution_count": null,
      "id": "9f0a47db",
      "metadata": {
        "id": "9f0a47db"
      },
      "outputs": [],
      "source": [
        "x = np.linspace(3,10,50)"
      ]
    },
    {
      "cell_type": "code",
      "source": [
        "print(x)"
      ],
      "metadata": {
        "colab": {
          "base_uri": "https://localhost:8080/"
        },
        "id": "lKBDAfgz6mgR",
        "outputId": "12795784-b6b1-467a-a29f-41989b7fb874"
      },
      "id": "lKBDAfgz6mgR",
      "execution_count": null,
      "outputs": [
        {
          "output_type": "stream",
          "name": "stdout",
          "text": [
            "[ 3.          3.14285714  3.28571429  3.42857143  3.57142857  3.71428571\n",
            "  3.85714286  4.          4.14285714  4.28571429  4.42857143  4.57142857\n",
            "  4.71428571  4.85714286  5.          5.14285714  5.28571429  5.42857143\n",
            "  5.57142857  5.71428571  5.85714286  6.          6.14285714  6.28571429\n",
            "  6.42857143  6.57142857  6.71428571  6.85714286  7.          7.14285714\n",
            "  7.28571429  7.42857143  7.57142857  7.71428571  7.85714286  8.\n",
            "  8.14285714  8.28571429  8.42857143  8.57142857  8.71428571  8.85714286\n",
            "  9.          9.14285714  9.28571429  9.42857143  9.57142857  9.71428571\n",
            "  9.85714286 10.        ]\n"
          ]
        }
      ]
    },
    {
      "cell_type": "markdown",
      "id": "0289d659",
      "metadata": {
        "id": "0289d659"
      },
      "source": [
        "Q4 Let x be array [[1, 2, 3], [4, 5, 6]]. Convert it to [1 4 2 5 3 6]."
      ]
    },
    {
      "cell_type": "code",
      "execution_count": null,
      "id": "f8435bca",
      "metadata": {
        "id": "f8435bca"
      },
      "outputs": [],
      "source": [
        "x = np.array([[1,2,3],[4,5,6]])\n",
        "y = x.reshape(2,-1).ravel('f')"
      ]
    },
    {
      "cell_type": "code",
      "source": [
        "print(y)"
      ],
      "metadata": {
        "colab": {
          "base_uri": "https://localhost:8080/"
        },
        "id": "SIGLKPDg8MYa",
        "outputId": "90f2638d-c82f-4852-f577-2dd19707defb"
      },
      "id": "SIGLKPDg8MYa",
      "execution_count": null,
      "outputs": [
        {
          "output_type": "stream",
          "name": "stdout",
          "text": [
            "[1 4 2 5 3 6]\n"
          ]
        }
      ]
    },
    {
      "cell_type": "markdown",
      "id": "71988acd",
      "metadata": {
        "id": "71988acd"
      },
      "source": [
        "Q5 Let x be an array [1, 2, 3, ..., 9]. Split x into 3 arrays, each of which has 4, 2, and 3 elements in the original order."
      ]
    },
    {
      "cell_type": "code",
      "execution_count": null,
      "id": "9425a232",
      "metadata": {
        "id": "9425a232",
        "colab": {
          "base_uri": "https://localhost:8080/"
        },
        "outputId": "55eb794c-9a88-4911-80bc-81a067039e9a"
      },
      "outputs": [
        {
          "output_type": "stream",
          "name": "stdout",
          "text": [
            "Before split [1 2 3 4 5 6 7 8 9]\n",
            "After split [array([1, 2, 3, 4]), array([5, 6]), array([7, 8, 9])]\n"
          ]
        }
      ],
      "source": [
        "x = np.arange(1,10)\n",
        "print(\"Before split\",x)\n",
        "y = np.split(x,[4,6])\n",
        "print(\"After split\",y)"
      ]
    },
    {
      "cell_type": "markdown",
      "id": "6aecae8c",
      "metadata": {
        "id": "6aecae8c"
      },
      "source": [
        " Q6 Compute the inverse and primary diagnol sum of x=[[1,2],[3,4]]"
      ]
    },
    {
      "cell_type": "code",
      "execution_count": null,
      "id": "3d79a142",
      "metadata": {
        "id": "3d79a142"
      },
      "outputs": [],
      "source": [
        "x = np.array([[1,2],[3,4]])\n",
        "y = np.linalg.inv(x)\n",
        "z = np.trace(x)"
      ]
    },
    {
      "cell_type": "code",
      "source": [
        "print(y)"
      ],
      "metadata": {
        "colab": {
          "base_uri": "https://localhost:8080/"
        },
        "id": "HuHOfHK9U8NN",
        "outputId": "c6e8e16c-72ef-4e62-e0ce-0ea1e5794db2"
      },
      "id": "HuHOfHK9U8NN",
      "execution_count": null,
      "outputs": [
        {
          "output_type": "stream",
          "name": "stdout",
          "text": [
            "[[-2.   1. ]\n",
            " [ 1.5 -0.5]]\n"
          ]
        }
      ]
    },
    {
      "cell_type": "code",
      "source": [
        "print(z)"
      ],
      "metadata": {
        "colab": {
          "base_uri": "https://localhost:8080/"
        },
        "id": "i0vehkOwVlfc",
        "outputId": "a0b357dc-01a0-4bc5-e08a-346b0d9f33b1"
      },
      "id": "i0vehkOwVlfc",
      "execution_count": null,
      "outputs": [
        {
          "output_type": "stream",
          "name": "stdout",
          "text": [
            "5\n"
          ]
        }
      ]
    },
    {
      "cell_type": "markdown",
      "id": "9f088694",
      "metadata": {
        "id": "9f088694"
      },
      "source": [
        "Q7 Sort x along the second axis. x = [[1,4],[3,1]]"
      ]
    },
    {
      "cell_type": "code",
      "execution_count": null,
      "id": "40099735",
      "metadata": {
        "id": "40099735"
      },
      "outputs": [],
      "source": [
        "x = np.array([[1,4],[3,1]])\n",
        "y = np.argsort(x,axis=1)"
      ]
    },
    {
      "cell_type": "code",
      "source": [
        "print(y)"
      ],
      "metadata": {
        "colab": {
          "base_uri": "https://localhost:8080/"
        },
        "id": "BrCsSUgwW56H",
        "outputId": "355bd4d1-9b91-4f4a-b5c5-7a7d3bf9943d"
      },
      "id": "BrCsSUgwW56H",
      "execution_count": null,
      "outputs": [
        {
          "output_type": "stream",
          "name": "stdout",
          "text": [
            "[[0 1]\n",
            " [1 0]]\n"
          ]
        }
      ]
    },
    {
      "cell_type": "markdown",
      "id": "51cc1a71",
      "metadata": {
        "id": "51cc1a71"
      },
      "source": [
        "Q8 Get the indices that would sort x(as above) along the second axis."
      ]
    },
    {
      "cell_type": "code",
      "execution_count": null,
      "id": "f314f2b6",
      "metadata": {
        "id": "f314f2b6"
      },
      "outputs": [],
      "source": [
        "from numpy.lib.shape_base import take_along_axis\n",
        "x = np.array([[1,4],[3,1]])\n",
        "y = np.argsort(x,axis=1)\n",
        "z = np.take_along_axis(x, y, axis = 1)"
      ]
    },
    {
      "cell_type": "code",
      "source": [
        "print(z)"
      ],
      "metadata": {
        "colab": {
          "base_uri": "https://localhost:8080/"
        },
        "id": "2ex9TPf8ZCNm",
        "outputId": "2575a72b-79ea-441e-bd69-82b3c1ea1784"
      },
      "id": "2ex9TPf8ZCNm",
      "execution_count": null,
      "outputs": [
        {
          "output_type": "stream",
          "name": "stdout",
          "text": [
            "[[1 4]\n",
            " [1 3]]\n"
          ]
        }
      ]
    },
    {
      "cell_type": "markdown",
      "id": "1cf5455c",
      "metadata": {
        "id": "1cf5455c"
      },
      "source": [
        "Initiate x as a 2x5 array with random values from 0 to 10(not inclusive).Get the maximum and minimum values and their indices of x along the second axis."
      ]
    },
    {
      "cell_type": "code",
      "execution_count": null,
      "id": "4c9518c5",
      "metadata": {
        "id": "4c9518c5",
        "colab": {
          "base_uri": "https://localhost:8080/"
        },
        "outputId": "81fdcc07-aa8f-4057-cd88-f56c9bb65e7a"
      },
      "outputs": [
        {
          "output_type": "stream",
          "name": "stderr",
          "text": [
            "/usr/local/lib/python3.7/dist-packages/ipykernel_launcher.py:1: DeprecationWarning: This function is deprecated. Please call randint(1, 10 + 1) instead\n",
            "  \"\"\"Entry point for launching an IPython kernel.\n"
          ]
        }
      ],
      "source": [
        "x = np.random.random_integers(9+1,size=(2,5))"
      ]
    },
    {
      "cell_type": "code",
      "source": [
        "print(x)"
      ],
      "metadata": {
        "colab": {
          "base_uri": "https://localhost:8080/"
        },
        "id": "Y8ZnuncEcFMG",
        "outputId": "dc8c39d4-c0a3-4efc-9771-65f8ace683c9"
      },
      "id": "Y8ZnuncEcFMG",
      "execution_count": null,
      "outputs": [
        {
          "output_type": "stream",
          "name": "stdout",
          "text": [
            "[[6 6 2 5 7]\n",
            " [5 5 7 7 9]]\n"
          ]
        }
      ]
    },
    {
      "cell_type": "code",
      "source": [
        "max = np.amax(x)\n",
        "max_index = np.where(x == np.amax(x))"
      ],
      "metadata": {
        "id": "1HdZXMfoHi7C"
      },
      "id": "1HdZXMfoHi7C",
      "execution_count": null,
      "outputs": []
    },
    {
      "cell_type": "code",
      "source": [
        "print(max)\n",
        "print(max_index)"
      ],
      "metadata": {
        "colab": {
          "base_uri": "https://localhost:8080/"
        },
        "id": "6vtJBY09IDbO",
        "outputId": "7f8aaeea-cded-42a7-dd8a-a6bfb6c41ca7"
      },
      "id": "6vtJBY09IDbO",
      "execution_count": null,
      "outputs": [
        {
          "output_type": "stream",
          "name": "stdout",
          "text": [
            "9\n",
            "(array([1]), array([4]))\n"
          ]
        }
      ]
    },
    {
      "cell_type": "code",
      "source": [
        "min = np.amin(x)\n",
        "min_index = np.where(x == np.amin(x))"
      ],
      "metadata": {
        "id": "gzYA7UoFL5nq"
      },
      "id": "gzYA7UoFL5nq",
      "execution_count": null,
      "outputs": []
    },
    {
      "cell_type": "code",
      "source": [
        "print(min)\n",
        "print(min_index)"
      ],
      "metadata": {
        "colab": {
          "base_uri": "https://localhost:8080/"
        },
        "id": "Wf5zCOSgL514",
        "outputId": "f1d7a31b-bd04-47c0-c4be-aac86933930f"
      },
      "id": "Wf5zCOSgL514",
      "execution_count": null,
      "outputs": [
        {
          "output_type": "stream",
          "name": "stdout",
          "text": [
            "2\n",
            "(array([0]), array([2]))\n"
          ]
        }
      ]
    },
    {
      "cell_type": "markdown",
      "id": "d4c46002",
      "metadata": {
        "id": "d4c46002"
      },
      "source": [
        "Run the following load command to get the 2-Dim iris dataset. Do the following operations on it."
      ]
    },
    {
      "cell_type": "code",
      "execution_count": null,
      "id": "6d70b524",
      "metadata": {
        "id": "6d70b524"
      },
      "outputs": [],
      "source": [
        "url = 'https://archive.ics.uci.edu/ml/machine-learning-databases/iris/iris.data'\n",
        "iris_2d = np.genfromtxt(url, delimiter=',', dtype='float', usecols=[0,1,2,3])"
      ]
    },
    {
      "cell_type": "code",
      "source": [
        "print(iris_2d)"
      ],
      "metadata": {
        "colab": {
          "base_uri": "https://localhost:8080/"
        },
        "id": "m02X88N3dxoj",
        "outputId": "b4d2b1ad-0e55-44e9-c590-591baffd8d62"
      },
      "id": "m02X88N3dxoj",
      "execution_count": null,
      "outputs": [
        {
          "output_type": "stream",
          "name": "stdout",
          "text": [
            "[[5.1 3.5 1.4 0.2]\n",
            " [4.9 3.  1.4 0.2]\n",
            " [4.7 3.2 1.3 0.2]\n",
            " [4.6 3.1 1.5 0.2]\n",
            " [5.  3.6 1.4 0.2]\n",
            " [5.4 3.9 1.7 0.4]\n",
            " [4.6 3.4 1.4 0.3]\n",
            " [5.  3.4 1.5 0.2]\n",
            " [4.4 2.9 1.4 0.2]\n",
            " [4.9 3.1 1.5 0.1]\n",
            " [5.4 3.7 1.5 0.2]\n",
            " [4.8 3.4 1.6 0.2]\n",
            " [4.8 3.  1.4 0.1]\n",
            " [4.3 3.  1.1 0.1]\n",
            " [5.8 4.  1.2 0.2]\n",
            " [5.7 4.4 1.5 0.4]\n",
            " [5.4 3.9 1.3 0.4]\n",
            " [5.1 3.5 1.4 0.3]\n",
            " [5.7 3.8 1.7 0.3]\n",
            " [5.1 3.8 1.5 0.3]\n",
            " [5.4 3.4 1.7 0.2]\n",
            " [5.1 3.7 1.5 0.4]\n",
            " [4.6 3.6 1.  0.2]\n",
            " [5.1 3.3 1.7 0.5]\n",
            " [4.8 3.4 1.9 0.2]\n",
            " [5.  3.  1.6 0.2]\n",
            " [5.  3.4 1.6 0.4]\n",
            " [5.2 3.5 1.5 0.2]\n",
            " [5.2 3.4 1.4 0.2]\n",
            " [4.7 3.2 1.6 0.2]\n",
            " [4.8 3.1 1.6 0.2]\n",
            " [5.4 3.4 1.5 0.4]\n",
            " [5.2 4.1 1.5 0.1]\n",
            " [5.5 4.2 1.4 0.2]\n",
            " [4.9 3.1 1.5 0.1]\n",
            " [5.  3.2 1.2 0.2]\n",
            " [5.5 3.5 1.3 0.2]\n",
            " [4.9 3.1 1.5 0.1]\n",
            " [4.4 3.  1.3 0.2]\n",
            " [5.1 3.4 1.5 0.2]\n",
            " [5.  3.5 1.3 0.3]\n",
            " [4.5 2.3 1.3 0.3]\n",
            " [4.4 3.2 1.3 0.2]\n",
            " [5.  3.5 1.6 0.6]\n",
            " [5.1 3.8 1.9 0.4]\n",
            " [4.8 3.  1.4 0.3]\n",
            " [5.1 3.8 1.6 0.2]\n",
            " [4.6 3.2 1.4 0.2]\n",
            " [5.3 3.7 1.5 0.2]\n",
            " [5.  3.3 1.4 0.2]\n",
            " [7.  3.2 4.7 1.4]\n",
            " [6.4 3.2 4.5 1.5]\n",
            " [6.9 3.1 4.9 1.5]\n",
            " [5.5 2.3 4.  1.3]\n",
            " [6.5 2.8 4.6 1.5]\n",
            " [5.7 2.8 4.5 1.3]\n",
            " [6.3 3.3 4.7 1.6]\n",
            " [4.9 2.4 3.3 1. ]\n",
            " [6.6 2.9 4.6 1.3]\n",
            " [5.2 2.7 3.9 1.4]\n",
            " [5.  2.  3.5 1. ]\n",
            " [5.9 3.  4.2 1.5]\n",
            " [6.  2.2 4.  1. ]\n",
            " [6.1 2.9 4.7 1.4]\n",
            " [5.6 2.9 3.6 1.3]\n",
            " [6.7 3.1 4.4 1.4]\n",
            " [5.6 3.  4.5 1.5]\n",
            " [5.8 2.7 4.1 1. ]\n",
            " [6.2 2.2 4.5 1.5]\n",
            " [5.6 2.5 3.9 1.1]\n",
            " [5.9 3.2 4.8 1.8]\n",
            " [6.1 2.8 4.  1.3]\n",
            " [6.3 2.5 4.9 1.5]\n",
            " [6.1 2.8 4.7 1.2]\n",
            " [6.4 2.9 4.3 1.3]\n",
            " [6.6 3.  4.4 1.4]\n",
            " [6.8 2.8 4.8 1.4]\n",
            " [6.7 3.  5.  1.7]\n",
            " [6.  2.9 4.5 1.5]\n",
            " [5.7 2.6 3.5 1. ]\n",
            " [5.5 2.4 3.8 1.1]\n",
            " [5.5 2.4 3.7 1. ]\n",
            " [5.8 2.7 3.9 1.2]\n",
            " [6.  2.7 5.1 1.6]\n",
            " [5.4 3.  4.5 1.5]\n",
            " [6.  3.4 4.5 1.6]\n",
            " [6.7 3.1 4.7 1.5]\n",
            " [6.3 2.3 4.4 1.3]\n",
            " [5.6 3.  4.1 1.3]\n",
            " [5.5 2.5 4.  1.3]\n",
            " [5.5 2.6 4.4 1.2]\n",
            " [6.1 3.  4.6 1.4]\n",
            " [5.8 2.6 4.  1.2]\n",
            " [5.  2.3 3.3 1. ]\n",
            " [5.6 2.7 4.2 1.3]\n",
            " [5.7 3.  4.2 1.2]\n",
            " [5.7 2.9 4.2 1.3]\n",
            " [6.2 2.9 4.3 1.3]\n",
            " [5.1 2.5 3.  1.1]\n",
            " [5.7 2.8 4.1 1.3]\n",
            " [6.3 3.3 6.  2.5]\n",
            " [5.8 2.7 5.1 1.9]\n",
            " [7.1 3.  5.9 2.1]\n",
            " [6.3 2.9 5.6 1.8]\n",
            " [6.5 3.  5.8 2.2]\n",
            " [7.6 3.  6.6 2.1]\n",
            " [4.9 2.5 4.5 1.7]\n",
            " [7.3 2.9 6.3 1.8]\n",
            " [6.7 2.5 5.8 1.8]\n",
            " [7.2 3.6 6.1 2.5]\n",
            " [6.5 3.2 5.1 2. ]\n",
            " [6.4 2.7 5.3 1.9]\n",
            " [6.8 3.  5.5 2.1]\n",
            " [5.7 2.5 5.  2. ]\n",
            " [5.8 2.8 5.1 2.4]\n",
            " [6.4 3.2 5.3 2.3]\n",
            " [6.5 3.  5.5 1.8]\n",
            " [7.7 3.8 6.7 2.2]\n",
            " [7.7 2.6 6.9 2.3]\n",
            " [6.  2.2 5.  1.5]\n",
            " [6.9 3.2 5.7 2.3]\n",
            " [5.6 2.8 4.9 2. ]\n",
            " [7.7 2.8 6.7 2. ]\n",
            " [6.3 2.7 4.9 1.8]\n",
            " [6.7 3.3 5.7 2.1]\n",
            " [7.2 3.2 6.  1.8]\n",
            " [6.2 2.8 4.8 1.8]\n",
            " [6.1 3.  4.9 1.8]\n",
            " [6.4 2.8 5.6 2.1]\n",
            " [7.2 3.  5.8 1.6]\n",
            " [7.4 2.8 6.1 1.9]\n",
            " [7.9 3.8 6.4 2. ]\n",
            " [6.4 2.8 5.6 2.2]\n",
            " [6.3 2.8 5.1 1.5]\n",
            " [6.1 2.6 5.6 1.4]\n",
            " [7.7 3.  6.1 2.3]\n",
            " [6.3 3.4 5.6 2.4]\n",
            " [6.4 3.1 5.5 1.8]\n",
            " [6.  3.  4.8 1.8]\n",
            " [6.9 3.1 5.4 2.1]\n",
            " [6.7 3.1 5.6 2.4]\n",
            " [6.9 3.1 5.1 2.3]\n",
            " [5.8 2.7 5.1 1.9]\n",
            " [6.8 3.2 5.9 2.3]\n",
            " [6.7 3.3 5.7 2.5]\n",
            " [6.7 3.  5.2 2.3]\n",
            " [6.3 2.5 5.  1.9]\n",
            " [6.5 3.  5.2 2. ]\n",
            " [6.2 3.4 5.4 2.3]\n",
            " [5.9 3.  5.1 1.8]]\n"
          ]
        }
      ]
    },
    {
      "cell_type": "markdown",
      "id": "09bd05b0",
      "metadata": {
        "id": "09bd05b0"
      },
      "source": [
        "Drop rows that contain a missing value. "
      ]
    },
    {
      "cell_type": "code",
      "execution_count": null,
      "id": "ffd754b3",
      "metadata": {
        "id": "ffd754b3",
        "colab": {
          "base_uri": "https://localhost:8080/"
        },
        "outputId": "a8487e51-c789-4585-c2ec-5d8a352cf2ba"
      },
      "outputs": [
        {
          "output_type": "stream",
          "name": "stdout",
          "text": [
            "       a    b    c    d\n",
            "0    5.1  3.5  1.4  0.2\n",
            "1    4.9  3.0  1.4  0.2\n",
            "2    4.7  3.2  1.3  0.2\n",
            "3    4.6  3.1  1.5  0.2\n",
            "4    5.0  3.6  1.4  0.2\n",
            "..   ...  ...  ...  ...\n",
            "145  6.7  3.0  5.2  2.3\n",
            "146  6.3  2.5  5.0  1.9\n",
            "147  6.5  3.0  5.2  2.0\n",
            "148  6.2  3.4  5.4  2.3\n",
            "149  5.9  3.0  5.1  1.8\n",
            "\n",
            "[150 rows x 4 columns]\n"
          ]
        }
      ],
      "source": [
        "df = pd.DataFrame(iris_2d, columns = ['a','b','c','d'])\n",
        "print(df.dropna())"
      ]
    },
    {
      "cell_type": "code",
      "source": [
        "df.isnull().values.any()"
      ],
      "metadata": {
        "colab": {
          "base_uri": "https://localhost:8080/"
        },
        "id": "eU8glmu9G3Sg",
        "outputId": "6313f7f9-3727-49fc-e15b-f0594ad84f60"
      },
      "id": "eU8glmu9G3Sg",
      "execution_count": null,
      "outputs": [
        {
          "output_type": "execute_result",
          "data": {
            "text/plain": [
              "False"
            ]
          },
          "metadata": {},
          "execution_count": 92
        }
      ]
    },
    {
      "cell_type": "markdown",
      "id": "8cbd9fb3",
      "metadata": {
        "id": "8cbd9fb3"
      },
      "source": [
        "Find the correlation between first two columns."
      ]
    },
    {
      "cell_type": "code",
      "source": [
        "column_1 = df[\"a\"]\n",
        "column_2 = df[\"b\"]\n",
        "correlation = column_1.corr(column_2)"
      ],
      "metadata": {
        "id": "cYMKy4jADCg3"
      },
      "id": "cYMKy4jADCg3",
      "execution_count": null,
      "outputs": []
    },
    {
      "cell_type": "code",
      "source": [
        "print(correlation)"
      ],
      "metadata": {
        "colab": {
          "base_uri": "https://localhost:8080/"
        },
        "id": "JkTlbV66pXWi",
        "outputId": "199d22e1-7d33-44a4-a998-9eaf1b484221"
      },
      "id": "JkTlbV66pXWi",
      "execution_count": null,
      "outputs": [
        {
          "output_type": "stream",
          "name": "stdout",
          "text": [
            "-0.10936924995064937\n"
          ]
        }
      ]
    },
    {
      "cell_type": "markdown",
      "id": "73965a4a",
      "metadata": {
        "id": "73965a4a"
      },
      "source": [
        "Find the mean,median and standard deviation of column 3."
      ]
    },
    {
      "cell_type": "code",
      "source": [
        "m = df[\"c\"].mean()\n",
        "print(m)"
      ],
      "metadata": {
        "colab": {
          "base_uri": "https://localhost:8080/"
        },
        "id": "bfUazkUW-bem",
        "outputId": "3618b69c-8881-4446-999f-dbe3ddc8de19"
      },
      "id": "bfUazkUW-bem",
      "execution_count": null,
      "outputs": [
        {
          "output_type": "stream",
          "name": "stdout",
          "text": [
            "3.7586666666666693\n"
          ]
        }
      ]
    },
    {
      "cell_type": "code",
      "source": [
        "med = df[\"c\"].median()\n",
        "print(med)"
      ],
      "metadata": {
        "colab": {
          "base_uri": "https://localhost:8080/"
        },
        "id": "IxtBMYhHqZzj",
        "outputId": "5045431b-a012-4d7d-da8f-86d5a14a3652"
      },
      "id": "IxtBMYhHqZzj",
      "execution_count": null,
      "outputs": [
        {
          "output_type": "stream",
          "name": "stdout",
          "text": [
            "4.35\n"
          ]
        }
      ]
    },
    {
      "cell_type": "code",
      "source": [
        "standard_dev = df[\"c\"].std()\n",
        "print(standard_dev)"
      ],
      "metadata": {
        "colab": {
          "base_uri": "https://localhost:8080/"
        },
        "id": "dp0KEbMRq6EX",
        "outputId": "452844d1-4ac6-4ae2-9756-dfd3d9c312b5"
      },
      "id": "dp0KEbMRq6EX",
      "execution_count": null,
      "outputs": [
        {
          "output_type": "stream",
          "name": "stdout",
          "text": [
            "1.7644204199522617\n"
          ]
        }
      ]
    },
    {
      "cell_type": "markdown",
      "id": "14e0308e",
      "metadata": {
        "id": "14e0308e"
      },
      "source": [
        "Create a new column for volume in iris_2d, where volume is (pi x petallength x sepal_length^2)/3"
      ]
    },
    {
      "cell_type": "code",
      "execution_count": null,
      "id": "91c944c3",
      "metadata": {
        "id": "91c944c3"
      },
      "outputs": [],
      "source": [
        "petallength = df.loc[:,\"c\"]\n",
        "sepal_length = df.loc[:,\"a\"]\n",
        "volume = (((math.pi)*(petallength)*(sepal_length**2))/3)\n",
        "df.insert(5,\"volume\",[volume],[150])"
      ]
    },
    {
      "cell_type": "markdown",
      "id": "b7c1758f",
      "metadata": {
        "id": "b7c1758f"
      },
      "source": [
        "Run the following loaad command and solve the following questions"
      ]
    },
    {
      "cell_type": "code",
      "execution_count": null,
      "id": "b3fae8a7",
      "metadata": {
        "id": "b3fae8a7"
      },
      "outputs": [],
      "source": [
        "url = 'https://archive.ics.uci.edu/ml/machine-learning-databases/iris/iris.data'\n",
        "iris = np.genfromtxt(url, delimiter=',', dtype='object')\n",
        "names = ('sepallength', 'sepalwidth', 'petallength', 'petalwidth', 'species')"
      ]
    },
    {
      "cell_type": "code",
      "source": [
        "df1 = pd.DataFrame(iris, columns = ['sepallength','sepalwidth','petallength','petalwidth','species'])"
      ],
      "metadata": {
        "id": "S5Mmrbmby8o_"
      },
      "id": "S5Mmrbmby8o_",
      "execution_count": null,
      "outputs": []
    },
    {
      "cell_type": "code",
      "source": [
        "print(df1)"
      ],
      "metadata": {
        "colab": {
          "base_uri": "https://localhost:8080/"
        },
        "id": "vfh9q6Se0Ayt",
        "outputId": "94600a05-396a-476f-dbe0-256ff2b749e1"
      },
      "id": "vfh9q6Se0Ayt",
      "execution_count": null,
      "outputs": [
        {
          "output_type": "stream",
          "name": "stdout",
          "text": [
            "    sepallength sepalwidth petallength petalwidth            species\n",
            "0        b'5.1'     b'3.5'      b'1.4'     b'0.2'     b'Iris-setosa'\n",
            "1        b'4.9'     b'3.0'      b'1.4'     b'0.2'     b'Iris-setosa'\n",
            "2        b'4.7'     b'3.2'      b'1.3'     b'0.2'     b'Iris-setosa'\n",
            "3        b'4.6'     b'3.1'      b'1.5'     b'0.2'     b'Iris-setosa'\n",
            "4        b'5.0'     b'3.6'      b'1.4'     b'0.2'     b'Iris-setosa'\n",
            "..          ...        ...         ...        ...                ...\n",
            "145      b'6.7'     b'3.0'      b'5.2'     b'2.3'  b'Iris-virginica'\n",
            "146      b'6.3'     b'2.5'      b'5.0'     b'1.9'  b'Iris-virginica'\n",
            "147      b'6.5'     b'3.0'      b'5.2'     b'2.0'  b'Iris-virginica'\n",
            "148      b'6.2'     b'3.4'      b'5.4'     b'2.3'  b'Iris-virginica'\n",
            "149      b'5.9'     b'3.0'      b'5.1'     b'1.8'  b'Iris-virginica'\n",
            "\n",
            "[150 rows x 5 columns]\n"
          ]
        }
      ]
    },
    {
      "cell_type": "markdown",
      "id": "4ee21e50",
      "metadata": {
        "id": "4ee21e50"
      },
      "source": [
        "Find the count of unique species."
      ]
    },
    {
      "cell_type": "code",
      "execution_count": null,
      "id": "730ad758",
      "metadata": {
        "id": "730ad758",
        "colab": {
          "base_uri": "https://localhost:8080/"
        },
        "outputId": "ff9a4d8b-4c41-4bf6-afa1-cafc21663c7d"
      },
      "outputs": [
        {
          "output_type": "stream",
          "name": "stdout",
          "text": [
            "b'Iris-setosa'        50\n",
            "b'Iris-versicolor'    50\n",
            "b'Iris-virginica'     50\n",
            "Name: species, dtype: int64\n"
          ]
        }
      ],
      "source": [
        "print(df1['species'].value_counts())"
      ]
    },
    {
      "cell_type": "markdown",
      "id": "6d054b10",
      "metadata": {
        "id": "6d054b10"
      },
      "source": [
        "Bin the petal length (3rd) column of iris_2d to form a text array, such that if petal length is:\n",
        "Less than 3 –> ‘small’\n",
        "3-5 –> ‘medium’\n",
        "‘>=5 –> ‘large’"
      ]
    },
    {
      "cell_type": "code",
      "execution_count": null,
      "id": "5be1b28a",
      "metadata": {
        "scrolled": false,
        "id": "5be1b28a"
      },
      "outputs": [],
      "source": [
        "petal_length_bin = np.digitize('petallength')\n",
        "new_value = [ if x<3 :'small', else if 3<x<5 : 'medium',else x>5 :'large' for x in ['petallength']]"
      ]
    },
    {
      "cell_type": "markdown",
      "id": "87b2ddd8",
      "metadata": {
        "id": "87b2ddd8"
      },
      "source": [
        "Find the most frequent value of petal length (3rd column) in iris dataset"
      ]
    },
    {
      "cell_type": "code",
      "execution_count": null,
      "id": "bb79857d",
      "metadata": {
        "id": "bb79857d",
        "colab": {
          "base_uri": "https://localhost:8080/"
        },
        "outputId": "174f2d87-c26d-46d9-b4c0-1774081197d2"
      },
      "outputs": [
        {
          "output_type": "stream",
          "name": "stdout",
          "text": [
            "0    b'1.5'\n",
            "dtype: object\n"
          ]
        }
      ],
      "source": [
        "print(df1['petallength'].mode())"
      ]
    }
  ],
  "metadata": {
    "kernelspec": {
      "display_name": "Python 3 (ipykernel)",
      "language": "python",
      "name": "python3"
    },
    "language_info": {
      "codemirror_mode": {
        "name": "ipython",
        "version": 3
      },
      "file_extension": ".py",
      "mimetype": "text/x-python",
      "name": "python",
      "nbconvert_exporter": "python",
      "pygments_lexer": "ipython3",
      "version": "3.8.10"
    },
    "colab": {
      "name": "ML_stamatics_assignment 1.ipynb",
      "provenance": [],
      "collapsed_sections": [],
      "include_colab_link": true
    }
  },
  "nbformat": 4,
  "nbformat_minor": 5
}